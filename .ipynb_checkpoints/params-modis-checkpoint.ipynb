{
 "cells": [
  {
   "cell_type": "code",
   "execution_count": 2,
   "metadata": {},
   "outputs": [
    {
     "name": "stdout",
     "output_type": "stream",
     "text": [
      "(72, 10)\n"
     ]
    }
   ],
   "source": [
    "from pyhdf.SD import SD, SDC\n",
    "\n",
    "import pprint\n",
    "\n",
    "file_name = 'MYD04_L2.A2017332.0820.006.2017332194745.hdf'\n",
    "\n",
    "file = SD(file_name, SDC.READ)\n",
    "\n",
    "file_info = file.info()\n",
    "print(file_info)"
   ]
  },
  {
   "cell_type": "code",
   "execution_count": 3,
   "metadata": {},
   "outputs": [
    {
     "name": "stdout",
     "output_type": "stream",
     "text": [
      "0 Longitude\n",
      "1 Latitude\n",
      "2 Scan_Start_Time\n",
      "3 Solar_Zenith\n",
      "4 Solar_Azimuth\n",
      "5 Sensor_Zenith\n",
      "6 Sensor_Azimuth\n",
      "7 Scattering_Angle\n",
      "8 Land_sea_Flag\n",
      "9 Aerosol_Cldmask_Land_Ocean\n",
      "10 Cloud_Pixel_Distance_Land_Ocean\n",
      "11 Land_Ocean_Quality_Flag\n",
      "12 Optical_Depth_Land_And_Ocean\n",
      "13 Image_Optical_Depth_Land_And_Ocean\n",
      "14 Average_Cloud_Pixel_Distance_Land_Ocean\n",
      "15 Aerosol_Type_Land\n",
      "16 Fitting_Error_Land\n",
      "17 Surface_Reflectance_Land\n",
      "18 Corrected_Optical_Depth_Land\n",
      "19 Corrected_Optical_Depth_Land_wav2p1\n",
      "20 Optical_Depth_Ratio_Small_Land\n",
      "21 Number_Pixels_Used_Land\n",
      "22 Mean_Reflectance_Land\n",
      "23 STD_Reflectance_Land\n",
      "24 Mass_Concentration_Land\n",
      "25 Aerosol_Cloud_Fraction_Land\n",
      "26 Quality_Assurance_Land\n",
      "27 Solution_Index_Ocean_Small\n",
      "28 Solution_Index_Ocean_Large\n",
      "29 Effective_Optical_Depth_Best_Ocean\n",
      "30 Effective_Optical_Depth_Average_Ocean\n",
      "31 Optical_Depth_Small_Best_Ocean\n",
      "32 Optical_Depth_Small_Average_Ocean\n",
      "33 Optical_Depth_Large_Best_Ocean\n",
      "34 Optical_Depth_Large_Average_Ocean\n",
      "35 Mass_Concentration_Ocean\n",
      "36 Aerosol_Cloud_Fraction_Ocean\n",
      "37 Effective_Radius_Ocean\n",
      "38 PSML003_Ocean\n",
      "39 Asymmetry_Factor_Best_Ocean\n",
      "40 Asymmetry_Factor_Average_Ocean\n",
      "41 Backscattering_Ratio_Best_Ocean\n",
      "42 Backscattering_Ratio_Average_Ocean\n",
      "43 Angstrom_Exponent_1_Ocean\n",
      "44 Angstrom_Exponent_2_Ocean\n",
      "45 Least_Squares_Error_Ocean\n",
      "46 Optical_Depth_Ratio_Small_Ocean_0.55micron\n",
      "47 Optical_Depth_by_models_ocean\n",
      "48 Number_Pixels_Used_Ocean\n",
      "49 Mean_Reflectance_Ocean\n",
      "50 STD_Reflectance_Ocean\n",
      "51 Quality_Assurance_Ocean\n",
      "52 Deep_Blue_Aerosol_Optical_Depth_550_Land\n",
      "53 Deep_Blue_Spectral_Aerosol_Optical_Depth_Land\n",
      "54 Deep_Blue_Angstrom_Exponent_Land\n",
      "55 Deep_Blue_Spectral_Single_Scattering_Albedo_Land\n",
      "56 Deep_Blue_Spectral_Surface_Reflectance_Land\n",
      "57 Deep_Blue_Spectral_TOA_Reflectance_Land\n",
      "58 Deep_Blue_Number_Pixels_Used_550_Land\n",
      "59 Deep_Blue_Aerosol_Optical_Depth_550_Land_STD\n",
      "60 Deep_Blue_Cloud_Fraction_Land\n",
      "61 Deep_Blue_Aerosol_Optical_Depth_550_Land_QA_Flag\n",
      "62 Deep_Blue_Algorithm_Flag_Land\n",
      "63 Deep_Blue_Aerosol_Optical_Depth_550_Land_Best_Estimate\n",
      "64 Deep_Blue_Aerosol_Optical_Depth_550_Land_Estimated_Uncertainty\n",
      "65 AOD_550_Dark_Target_Deep_Blue_Combined\n",
      "66 AOD_550_Dark_Target_Deep_Blue_Combined_QA_Flag\n",
      "67 AOD_550_Dark_Target_Deep_Blue_Combined_Algorithm_Flag\n",
      "68 Glint_Angle\n",
      "69 Wind_Speed_Ncep_Ocean\n",
      "70 Topographic_Altitude_Land\n",
      "71 Effective_Optical_Depth_0p55um_Ocean\n"
     ]
    }
   ],
   "source": [
    "#----------------------------------------------------------------------------------------#\n",
    "# print sds names\n",
    "\n",
    "datasets_dic = file.datasets()\n",
    "\n",
    "for idx,sds in enumerate(datasets_dic.keys()):\n",
    "    print(idx,sds)"
   ]
  },
  {
   "cell_type": "code",
   "execution_count": null,
   "metadata": {},
   "outputs": [],
   "source": []
  }
 ],
 "metadata": {
  "kernelspec": {
   "display_name": "Python 3",
   "language": "python",
   "name": "python3"
  },
  "language_info": {
   "codemirror_mode": {
    "name": "ipython",
    "version": 3
   },
   "file_extension": ".py",
   "mimetype": "text/x-python",
   "name": "python",
   "nbconvert_exporter": "python",
   "pygments_lexer": "ipython3",
   "version": "3.6.3"
  }
 },
 "nbformat": 4,
 "nbformat_minor": 2
}
