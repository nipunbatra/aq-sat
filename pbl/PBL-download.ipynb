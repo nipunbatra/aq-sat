{
 "cells": [
  {
   "cell_type": "code",
   "execution_count": 1,
   "metadata": {},
   "outputs": [],
   "source": [
    "from datetime import timedelta, date\n",
    "import requests\n",
    "def daterange(date1, date2):\n",
    "    for n in range(int ((date2 - date1).days)+1):\n",
    "        yield date1 + timedelta(n)\n",
    "\n",
    "start_dt = date(2017, 1, 1)\n",
    "end_dt = date(2017, 12, 31)\n",
    "dfs = []\n",
    "for dt in daterange(start_dt, end_dt):\n",
    "    try:\n",
    "        x = dt.strftime(\"%Y%m%d\")\n",
    "        headers = {\n",
    "        'Connection': 'keep-alive',\n",
    "        'Upgrade-Insecure-Requests': '1',\n",
    "        'User-Agent': 'Mozilla/5.0 (Macintosh; Intel Mac OS X 10_13_5) AppleWebKit/537.36 (KHTML, like Gecko) Chrome/67.0.3396.87 Safari/537.36',\n",
    "        'Accept': 'text/html,application/xhtml+xml,application/xml;q=0.9,image/webp,image/apng,*/*;q=0.8',\n",
    "        'Referer': 'http://bhuvan.nrsc.gov.in/data/download/index.php',\n",
    "        'Accept-Encoding': 'gzip, deflate',\n",
    "        'Accept-Language': 'en-GB,en-US;q=0.9,en;q=0.8',\n",
    "        }\n",
    "\n",
    "        params = (\n",
    "            ('f', 'nices_pblh_{}.zip'.format(x)),\n",
    "            ('se', 'NICES'),\n",
    "            ('sf', 'pblh'),\n",
    "            ('u', 'KURINJISELVARAJ'),\n",
    "        )\n",
    "\n",
    "        response = requests.get('http://bhuvan2.nrsc.gov.in:8008/isroeodatadownloadutility/tiledownloadnew_cfr_new.php', headers=headers, params=params)\n",
    "        import zipfile, io\n",
    "        file = zipfile.ZipFile(io.BytesIO(response.content))\n",
    "        file.extract('PBLH{}_V1.nc'.format(x))\n",
    "        #NB. Original query string below. It seems impossible to parse and\n",
    "        #reproduce query strings 100% accurately so the one below is given\n",
    "        #in case the reproduced version is not \"correct\".\n",
    "        # response = requests.get('http://bhuvan2.nrsc.gov.in:8008/isroeodatadownloadutility/tiledownloadnew_cfr_new.php?f=nices_pblh_20180402.zip&se=NICES&sf=pblh&u=KURINJISELVARAJ', headers=headers)\n",
    "\n",
    "    except Exception as e:\n",
    "        print(\"*\"*40)\n",
    "        print(x)\n",
    "        print(e)\n",
    "        print(\"*\"*40)\n",
    "\n",
    "    "
   ]
  }
 ],
 "metadata": {
  "kernelspec": {
   "display_name": "Python 3",
   "language": "python",
   "name": "python3"
  },
  "language_info": {
   "codemirror_mode": {
    "name": "ipython",
    "version": 3
   },
   "file_extension": ".py",
   "mimetype": "text/x-python",
   "name": "python",
   "nbconvert_exporter": "python",
   "pygments_lexer": "ipython3",
   "version": "3.6.3"
  }
 },
 "nbformat": 4,
 "nbformat_minor": 2
}
